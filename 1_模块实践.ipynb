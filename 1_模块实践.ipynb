{
 "cells": [
  {
   "cell_type": "markdown",
   "id": "a0862df4",
   "metadata": {},
   "source": [
    "## Start ML learning"
   ]
  },
  {
   "cell_type": "code",
   "execution_count": 7,
   "id": "49cdff9d",
   "metadata": {},
   "outputs": [
    {
     "name": "stdout",
     "output_type": "stream",
     "text": [
      "[[1 2 3]\n",
      " [4 5 6]\n",
      " [7 8 9]]\n"
     ]
    }
   ],
   "source": [
    "import numpy as np\n",
    "m = np.array([\n",
    "    [1, 2, 3],\n",
    "    [4, 5, 6], \n",
    "    [7, 8, 9]\n",
    "])\n",
    "print(m)"
   ]
  },
  {
   "cell_type": "code",
   "execution_count": 9,
   "id": "0d145b13",
   "metadata": {},
   "outputs": [
    {
     "name": "stdout",
     "output_type": "stream",
     "text": [
      "[1, 2, 3, 4, 5] [6, 7, 8, 9, 10]\n"
     ]
    }
   ],
   "source": [
    "import matplotlib\n",
    "m = [1, 2, 3, 4, 5]\n",
    "n = [6, 7, 8, 9, 10]\n",
    "print(m, n)"
   ]
  },
  {
   "cell_type": "code",
   "execution_count": 46,
   "id": "52d746e3",
   "metadata": {},
   "outputs": [
    {
     "data": {
      "image/png": "[encoded data removed]",
      "text/plain": [
       "<Figure size 200x200 with 1 Axes>"
      ]
     },
     "metadata": {},
     "output_type": "display_data"
    }
   ],
   "source": [
    "from matplotlib import pyplot as plt\n",
    "fig1 = plt.figure(figsize = (2, 2))\n",
    "plt.plot(m, n)\n",
    "plt.title(\"Sample Plot\")\n",
    "plt.xlabel('x')\n",
    "plt.ylabel('y')\n",
    "plt.show()"
   ]
  },
  {
   "cell_type": "code",
   "execution_count": 45,
   "id": "3961cbf6",
   "metadata": {},
   "outputs": [
    {
     "data": {
      "image/png": "[encoded data removed]",
      "text/plain": [
       "<Figure size 200x200 with 1 Axes>"
      ]
     },
     "metadata": {},
     "output_type": "display_data"
    }
   ],
   "source": [
    "from matplotlib import pyplot as plt\n",
    "fig2 = plt.figure(figsize = (2, 2))\n",
    "plt.scatter(m, n)\n",
    "plt.title(\"Sample Plot\")\n",
    "plt.xlabel('x')\n",
    "plt.ylabel('y')\n",
    "plt.show()"
   ]
  },
  {
   "cell_type": "code",
   "execution_count": 22,
   "id": "41bfd9c9",
   "metadata": {},
   "outputs": [
    {
     "name": "stdout",
     "output_type": "stream",
     "text": [
      "[[1. 0. 0. 0.]\n",
      " [0. 1. 0. 0.]\n",
      " [0. 0. 1. 0.]\n",
      " [0. 0. 0. 1.]]\n"
     ]
    }
   ],
   "source": [
    "a = np.eye(4)\n",
    "print(a)\n"
   ]
  },
  {
   "cell_type": "code",
   "execution_count": 23,
   "id": "92233a2b",
   "metadata": {},
   "outputs": [
    {
     "name": "stdout",
     "output_type": "stream",
     "text": [
      "[[1. 1. 1. 1.]\n",
      " [1. 1. 1. 1.]\n",
      " [1. 1. 1. 1.]\n",
      " [1. 1. 1. 1.]]\n"
     ]
    }
   ],
   "source": [
    "b = np.ones([4, 4])\n",
    "print(b)\n"
   ]
  },
  {
   "cell_type": "code",
   "execution_count": 24,
   "id": "10b0e9ec",
   "metadata": {},
   "outputs": [
    {
     "name": "stdout",
     "output_type": "stream",
     "text": [
      "[[2. 1. 1. 1.]\n",
      " [1. 2. 1. 1.]\n",
      " [1. 1. 2. 1.]\n",
      " [1. 1. 1. 2.]]\n"
     ]
    }
   ],
   "source": [
    "c = a + b\n",
    "print(c)"
   ]
  },
  {
   "cell_type": "code",
   "execution_count": 48,
   "id": "a7a34988",
   "metadata": {},
   "outputs": [
    {
     "name": "stdout",
     "output_type": "stream",
     "text": [
      "CSV 文件已生成：random_data.csv\n"
     ]
    }
   ],
   "source": [
    "import pandas as pd\n",
    "import numpy as np\n",
    "\n",
    "# 生成 100 行随机数据（两列：A列随机整数，B列随机小数）\n",
    "data = {\n",
    "    \"A\": np.random.randint(0, 100, size=30),  # 0~100的随机整数\n",
    "    \"B\": np.random.uniform(0, 1, size=30)    # 0~1的均匀分布随机数\n",
    "}\n",
    "\n",
    "df = pd.DataFrame(data)\n",
    "\n",
    "# 保存为 CSV 文件（默认逗号分隔，无行索引）\n",
    "df.to_csv(\"random_data.csv\", index=False, encoding=\"utf-8\")\n",
    "print(\"CSV 文件已生成：random_data.csv\")"
   ]
  },
  {
   "cell_type": "code",
   "execution_count": 52,
   "id": "d3546f16",
   "metadata": {},
   "outputs": [
    {
     "name": "stdout",
     "output_type": "stream",
     "text": [
      "     A         B\n",
      "0    8  0.496588\n",
      "1   17  0.860762\n",
      "2   46  0.527932\n",
      "3   64  0.296627\n",
      "4   73  0.542281\n",
      "5   56  0.802438\n",
      "6   60  0.458663\n",
      "7    0  0.319344\n",
      "8    7  0.748997\n",
      "9   59  0.223828\n",
      "10  95  0.029912\n",
      "11  84  0.108448\n",
      "12  82  0.116785\n",
      "13  46  0.888302\n",
      "14   5  0.515165\n",
      "15   0  0.719546\n",
      "16  98  0.300313\n",
      "17  60  0.386124\n",
      "18   1  0.839482\n",
      "19  48  0.231478\n",
      "20  88  0.724889\n",
      "21  66  0.036524\n",
      "22  28  0.281491\n",
      "23  18  0.401519\n",
      "24  62  0.968106\n",
      "25  16  0.001722\n",
      "26  80  0.792822\n",
      "27  50  0.898419\n",
      "28   3  0.239911\n",
      "29  85  0.149313\n"
     ]
    }
   ],
   "source": [
    "data = pd.read_csv(\"random_data.csv\")\n",
    "print(data)"
   ]
  },
  {
   "cell_type": "code",
   "execution_count": 53,
   "id": "755a8a22",
   "metadata": {},
   "outputs": [
    {
     "name": "stdout",
     "output_type": "stream",
     "text": [
      "0      8\n",
      "1     17\n",
      "2     46\n",
      "3     64\n",
      "4     73\n",
      "5     56\n",
      "6     60\n",
      "7      0\n",
      "8      7\n",
      "9     59\n",
      "10    95\n",
      "11    84\n",
      "12    82\n",
      "13    46\n",
      "14     5\n",
      "15     0\n",
      "16    98\n",
      "17    60\n",
      "18     1\n",
      "19    48\n",
      "20    88\n",
      "21    66\n",
      "22    28\n",
      "23    18\n",
      "24    62\n",
      "25    16\n",
      "26    80\n",
      "27    50\n",
      "28     3\n",
      "29    85\n",
      "Name: A, dtype: int64\n",
      "0     0.496588\n",
      "1     0.860762\n",
      "2     0.527932\n",
      "3     0.296627\n",
      "4     0.542281\n",
      "5     0.802438\n",
      "6     0.458663\n",
      "7     0.319344\n",
      "8     0.748997\n",
      "9     0.223828\n",
      "10    0.029912\n",
      "11    0.108448\n",
      "12    0.116785\n",
      "13    0.888302\n",
      "14    0.515165\n",
      "15    0.719546\n",
      "16    0.300313\n",
      "17    0.386124\n",
      "18    0.839482\n",
      "19    0.231478\n",
      "20    0.724889\n",
      "21    0.036524\n",
      "22    0.281491\n",
      "23    0.401519\n",
      "24    0.968106\n",
      "25    0.001722\n",
      "26    0.792822\n",
      "27    0.898419\n",
      "28    0.239911\n",
      "29    0.149313\n",
      "Name: B, dtype: float64\n"
     ]
    }
   ],
   "source": [
    "x = data.loc[:, 'A']\n",
    "print(x)\n",
    "y = data.loc[:, 'B']\n",
    "print(y)"
   ]
  },
  {
   "cell_type": "code",
   "execution_count": 54,
   "id": "2a6f4022",
   "metadata": {},
   "outputs": [
    {
     "name": "stdout",
     "output_type": "stream",
     "text": [
      "1     17\n",
      "2     46\n",
      "4     73\n",
      "5     56\n",
      "8      7\n",
      "13    46\n",
      "14     5\n",
      "15     0\n",
      "18     1\n",
      "20    88\n",
      "24    62\n",
      "26    80\n",
      "27    50\n",
      "Name: A, dtype: int64\n"
     ]
    }
   ],
   "source": [
    "z = data.loc[:, 'A'][y > 0.5]\n",
    "print(z)"
   ]
  },
  {
   "cell_type": "code",
   "execution_count": 55,
   "id": "c5312b3a",
   "metadata": {},
   "outputs": [
    {
     "name": "stdout",
     "output_type": "stream",
     "text": [
      "<class 'numpy.ndarray'>\n",
      "[[8.00000000e+00 4.96587982e-01]\n",
      " [1.70000000e+01 8.60761726e-01]\n",
      " [4.60000000e+01 5.27932031e-01]\n",
      " [6.40000000e+01 2.96626904e-01]\n",
      " [7.30000000e+01 5.42280922e-01]\n",
      " [5.60000000e+01 8.02438471e-01]\n",
      " [6.00000000e+01 4.58663451e-01]\n",
      " [0.00000000e+00 3.19344257e-01]\n",
      " [7.00000000e+00 7.48997382e-01]\n",
      " [5.90000000e+01 2.23827981e-01]\n",
      " [9.50000000e+01 2.99118386e-02]\n",
      " [8.40000000e+01 1.08448116e-01]\n",
      " [8.20000000e+01 1.16784516e-01]\n",
      " [4.60000000e+01 8.88302381e-01]\n",
      " [5.00000000e+00 5.15164526e-01]\n",
      " [0.00000000e+00 7.19545914e-01]\n",
      " [9.80000000e+01 3.00313114e-01]\n",
      " [6.00000000e+01 3.86123927e-01]\n",
      " [1.00000000e+00 8.39482411e-01]\n",
      " [4.80000000e+01 2.31478419e-01]\n",
      " [8.80000000e+01 7.24888705e-01]\n",
      " [6.60000000e+01 3.65244912e-02]\n",
      " [2.80000000e+01 2.81491347e-01]\n",
      " [1.80000000e+01 4.01518690e-01]\n",
      " [6.20000000e+01 9.68106245e-01]\n",
      " [1.60000000e+01 1.72171149e-03]\n",
      " [8.00000000e+01 7.92821932e-01]\n",
      " [5.00000000e+01 8.98419422e-01]\n",
      " [3.00000000e+00 2.39911269e-01]\n",
      " [8.50000000e+01 1.49313201e-01]]\n"
     ]
    }
   ],
   "source": [
    "data_array = np.array(data)\n",
    "print(type(data_array))\n",
    "print(data_array)"
   ]
  },
  {
   "cell_type": "code",
   "execution_count": 58,
   "id": "de6527de",
   "metadata": {},
   "outputs": [
    {
     "name": "stdout",
     "output_type": "stream",
     "text": [
      "    A         B\n",
      "0   8  0.496588\n",
      "1  17  0.860762\n",
      "2  46  0.527932\n",
      "3  64  0.296627\n",
      "4  73  0.542281\n"
     ]
    }
   ],
   "source": [
    "#预览\n",
    "data_new = data.head()  # 取前5行\n",
    "print(data_new)"
   ]
  },
  {
   "cell_type": "code",
   "execution_count": 59,
   "id": "85dc5054",
   "metadata": {},
   "outputs": [],
   "source": [
    "data_new.to_csv('data_new.csv')  # 保存为 CSV 文件"
   ]
  },
  {
   "cell_type": "code",
   "execution_count": 60,
   "id": "3bbdb5e6",
   "metadata": {},
   "outputs": [
    {
     "data": {
      "image/png": "[encoded data removed]",
      "text/plain": [
       "<Figure size 300x300 with 1 Axes>"
      ]
     },
     "metadata": {},
     "output_type": "display_data"
    }
   ],
   "source": [
    "fig = plt.figure(figsize=(3, 3))\n",
    "plt.scatter(data['A'], data['B'])\n",
    "plt.title(\"Scatter Plot of A vs B\")\n",
    "plt.xlabel('A')\n",
    "plt.ylabel('B')\n",
    "plt.show()"
   ]
  }
 ],
 "metadata": {
  "kernelspec": {
   "display_name": "ML",
   "language": "python",
   "name": "python3"
  },
  "language_info": {
   "codemirror_mode": {
    "name": "ipython",
    "version": 3
   },
   "file_extension": ".py",
   "mimetype": "text/x-python",
   "name": "python",
   "nbconvert_exporter": "python",
   "pygments_lexer": "ipython3",
   "version": "3.11.13"
  }
 },
 "nbformat": 4,
 "nbformat_minor": 5
}
