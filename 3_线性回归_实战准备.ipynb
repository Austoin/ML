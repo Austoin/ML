{
 "cells": [
  {
   "cell_type": "markdown",
   "id": "81931b10",
   "metadata": {},
   "source": [
    "### Scikit-learn"
   ]
  },
  {
   "cell_type": "markdown",
   "id": "70867d8c",
   "metadata": {},
   "source": [
    "> python专门解决机器学习算法的框架\n",
    ">\n",
    ">可以实现数据预处理，分类，回归，降维，模型选择等常用的机器学习算法"
   ]
  },
  {
   "cell_type": "markdown",
   "id": "94e02545",
   "metadata": {},
   "source": [
    "> 注意：scikit-learn不支持python以外的语言，且不支持DL和强化学习"
   ]
  },
  {
   "cell_type": "markdown",
   "id": "7779479d",
   "metadata": {},
   "source": [
    "#### 使用scikit—learn 求解a,b的基本步骤，最后预测新数据"
   ]
  },
  {
   "cell_type": "markdown",
   "id": "e0c05c07",
   "metadata": {},
   "source": [
    "![](./img/3_img/1.png)"
   ]
  },
  {
   "cell_type": "code",
   "execution_count": 4,
   "id": "86172604",
   "metadata": {},
   "outputs": [],
   "source": [
    "import csv, random, pandas as pd, numpy as np\n",
    "with open('3_1.csv', 'w', newline='') as f:\n",
    "    w = csv.writer(f)\n",
    "    w.writerow(['x', 'y'])  # 写表头\n",
    "    [[w.writerow([round(random.uniform(0,100), 2), \n",
    "                     round(random.uniform(0,50), 2)]) for _ in range(20)]]  # 20行随机数据"
   ]
  },
  {
   "cell_type": "code",
   "execution_count": 6,
   "id": "b6fbd8b4",
   "metadata": {},
   "outputs": [
    {
     "name": "stdout",
     "output_type": "stream",
     "text": [
      "       x      y\n",
      "0  76.00  34.93\n",
      "1  28.02  44.42\n",
      "2  52.90  30.64\n",
      "3  52.17  39.42\n",
      "4  27.24   2.10\n"
     ]
    }
   ],
   "source": [
    "data = pd.read_csv('3_1.csv')\n",
    "print(data.head())"
   ]
  },
  {
   "cell_type": "code",
   "execution_count": 13,
   "id": "c5d96dca",
   "metadata": {},
   "outputs": [
    {
     "data": {
      "image/png": "[encoded data removed]",
      "text/plain": [
       "<Figure size 300x300 with 1 Axes>"
      ]
     },
     "metadata": {},
     "output_type": "display_data"
    }
   ],
   "source": [
    "import matplotlib.pyplot as plt\n",
    "plt.figure(figsize=(3, 3))\n",
    "plt.scatter(data['x'], data['y'])  # data在上面已经创建了对象\n",
    "plt.xlabel('x')\n",
    "plt.ylabel('y')\n",
    "plt.show()"
   ]
  },
  {
   "cell_type": "code",
   "execution_count": 14,
   "id": "d43b14f9",
   "metadata": {},
   "outputs": [
    {
     "name": "stdout",
     "output_type": "stream",
     "text": [
      "线性回归模型: y = 0.04382808720274908 * x + 22.712878028624278\n"
     ]
    }
   ],
   "source": [
    "from sklearn.linear_model import LinearRegression\n",
    "model = LinearRegression()\n",
    "model.fit(data[['x']], data['y'])  # 注意data[['x']]是二维数组\n",
    "\n",
    "# 展示a, b\n",
    "a = model.coef_\n",
    "b = model.intercept_\n",
    "print(f'线性回归模型: y = {a[0]} * x + {b}')"
   ]
  },
  {
   "cell_type": "code",
   "execution_count": 22,
   "id": "29db6682",
   "metadata": {},
   "outputs": [
    {
     "name": "stdout",
     "output_type": "stream",
     "text": [
      "预测结果: [24.90428239 25.34256326]\n"
     ]
    }
   ],
   "source": [
    "# 对新数据做预测\n",
    "new_data = pd.DataFrame({'x': [50, 60]})\n",
    "predictions = model.predict(new_data)\n",
    "print(f'预测结果: {predictedions}')"
   ]
  },
  {
   "cell_type": "markdown",
   "id": "15063c18",
   "metadata": {},
   "source": [
    "![](./img/3_img/2.png)"
   ]
  },
  {
   "cell_type": "markdown",
   "id": "a62e56b7",
   "metadata": {},
   "source": [
    "![](./img/3_img/3.png)"
   ]
  },
  {
   "cell_type": "markdown",
   "id": "5114491f",
   "metadata": {},
   "source": [
    "> 散点图绘制展示"
   ]
  },
  {
   "cell_type": "markdown",
   "id": "cfbf2bea",
   "metadata": {},
   "source": [
    "![](./img/3_img/4.png)"
   ]
  }
 ],
 "metadata": {
  "kernelspec": {
   "display_name": "ML",
   "language": "python",
   "name": "python3"
  },
  "language_info": {
   "codemirror_mode": {
    "name": "ipython",
    "version": 3
   },
   "file_extension": ".py",
   "mimetype": "text/x-python",
   "name": "python",
   "nbconvert_exporter": "python",
   "pygments_lexer": "ipython3",
   "version": "3.11.13"
  }
 },
 "nbformat": 4,
 "nbformat_minor": 5
}
