{
 "cells": [
  {
   "cell_type": "markdown",
   "id": "becaaa84",
   "metadata": {},
   "source": [
    "## 线性回归\n"
   ]
  },
  {
   "cell_type": "code",
   "execution_count": null,
   "id": "029adb9b",
   "metadata": {
    "vscode": {
     "languageId": "plaintext"
    }
   },
   "outputs": [],
   "source": [
    "![线性回归的概念图片](./img/1.png)"
   ]
  }
 ],
 "metadata": {
  "language_info": {
   "name": "python"
  }
 },
 "nbformat": 4,
 "nbformat_minor": 5
}
