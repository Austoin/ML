{
 "cells": [
  {
   "cell_type": "markdown",
   "id": "becaaa84",
   "metadata": {},
   "source": [
    "## 线性回归\n"
   ]
  },
  {
   "cell_type": "markdown",
   "id": "bbc1a2c5",
   "metadata": {},
   "source": [
    "> 这是关于回归的概念"
   ]
  },
  {
   "cell_type": "markdown",
   "id": "029adb9b",
   "metadata": {},
   "source": [
    "![线性回归的概念图片](./img/2_img/1.png)"
   ]
  },
  {
   "cell_type": "markdown",
   "id": "87e19cdd",
   "metadata": {},
   "source": [
    "> 二次函数非线性，线性回归属于监督学习部分"
   ]
  },
  {
   "cell_type": "markdown",
   "id": "d0cfb1a0",
   "metadata": {},
   "source": [
    "![image!](./img/2_img/2.png)"
   ]
  },
  {
   "cell_type": "markdown",
   "id": "fb3cd1ad",
   "metadata": {},
   "source": [
    "![](./img/2_img/3.png)"
   ]
  },
  {
   "cell_type": "markdown",
   "id": "05d1da8d",
   "metadata": {},
   "source": [
    "### 问题转换\n",
    "> 损失函数初步引入"
   ]
  },
  {
   "cell_type": "markdown",
   "id": "37bb4937",
   "metadata": {},
   "source": [
    "![](./img/2_img/4.png)"
   ]
  },
  {
   "cell_type": "markdown",
   "id": "02b0eaa5",
   "metadata": {},
   "source": [
    "> 举例"
   ]
  },
  {
   "cell_type": "markdown",
   "id": "4a465166",
   "metadata": {},
   "source": [
    "![](./img/2_img/5.png)"
   ]
  },
  {
   "cell_type": "markdown",
   "id": "96e288ad",
   "metadata": {},
   "source": [
    "### 初步引入 “梯度下降法”"
   ]
  },
  {
   "cell_type": "markdown",
   "id": "2f7d95b0",
   "metadata": {},
   "source": [
    "![](./img/2_img/6.png)"
   ]
  },
  {
   "cell_type": "markdown",
   "id": "72ab8d3e",
   "metadata": {},
   "source": [
    "> 举例\n",
    "> ![](./img/2_img/7.png)"
   ]
  },
  {
   "cell_type": "markdown",
   "id": "d9736534",
   "metadata": {},
   "source": [
    "![](./img/2_img/8.png)"
   ]
  },
  {
   "cell_type": "markdown",
   "id": "f2af970e",
   "metadata": {},
   "source": [
    "> 效果展示\n",
    ">\n",
    "> ![](./img/2_img/9.png)"
   ]
  }
 ],
 "metadata": {
  "kernelspec": {
   "display_name": "ML",
   "language": "python",
   "name": "python3"
  },
  "language_info": {
   "name": "python",
   "version": "3.11.13"
  }
 },
 "nbformat": 4,
 "nbformat_minor": 5
}
